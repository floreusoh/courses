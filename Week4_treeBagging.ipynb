{
 "cells": [
  {
   "cell_type": "code",
   "execution_count": 1,
   "metadata": {},
   "outputs": [],
   "source": [
    "import numpy as np\n",
    "import pandas as pd\n",
    "from sklearn import ensemble, datasets, metrics, model_selection"
   ]
  },
  {
   "cell_type": "code",
   "execution_count": 2,
   "metadata": {},
   "outputs": [
    {
     "name": "stdout",
     "output_type": "stream",
     "text": [
      "Populating the interactive namespace from numpy and matplotlib\n"
     ]
    }
   ],
   "source": [
    "%pylab inline"
   ]
  },
  {
   "cell_type": "code",
   "execution_count": 7,
   "metadata": {},
   "outputs": [
    {
     "data": {
      "text/plain": [
       "array([0, 1, 2, ..., 8, 9, 8])"
      ]
     },
     "execution_count": 7,
     "metadata": {},
     "output_type": "execute_result"
    }
   ],
   "source": [
    "digits = datasets.load_digits()"
   ]
  },
  {
   "cell_type": "code",
   "execution_count": 8,
   "metadata": {},
   "outputs": [],
   "source": [
    "X = digits.data\n",
    "y = digits.target"
   ]
  },
  {
   "cell_type": "code",
   "execution_count": 9,
   "metadata": {},
   "outputs": [],
   "source": [
    "train_data, test_data, train_labels, test_labels = model_selection.train_test_split(X, \n",
    "                                                                                    y, \n",
    "                                                                                    test_size=0.3, \n",
    "                                                                                    random_state=1)\n"
   ]
  },
  {
   "cell_type": "code",
   "execution_count": 13,
   "metadata": {},
   "outputs": [
    {
     "data": {
      "text/plain": [
       "DecisionTreeClassifier(random_state=1)"
      ]
     },
     "execution_count": 13,
     "metadata": {},
     "output_type": "execute_result"
    }
   ],
   "source": [
    "from sklearn import tree\n",
    "point1 = tree.DecisionTreeClassifier(random_state=1)\n",
    "point1.fit(train_data, train_labels)\n",
    "predictions = point1.predict(test_data)"
   ]
  },
  {
   "cell_type": "code",
   "execution_count": 29,
   "metadata": {},
   "outputs": [],
   "source": [
    "from sklearn.model_selection import cross_val_score\n",
    "cvs = cross_val_score(point1, X, y, cv=10)"
   ]
  },
  {
   "cell_type": "code",
   "execution_count": 30,
   "metadata": {},
   "outputs": [
    {
     "name": "stdout",
     "output_type": "stream",
     "text": [
      "Answer 1 is 0.8241154562383614\n"
     ]
    }
   ],
   "source": [
    "print('Answer 1 is', cvs.mean())"
   ]
  },
  {
   "cell_type": "code",
   "execution_count": 31,
   "metadata": {},
   "outputs": [
    {
     "name": "stdout",
     "output_type": "stream",
     "text": [
      "0.9537037037037037\n"
     ]
    }
   ],
   "source": [
    "point2 = ensemble.BaggingClassifier(base_estimator=tree.DecisionTreeClassifier(),\n",
    "                                    n_estimators=100, random_state=0)\n",
    "point2.fit(train_data, train_labels)\n",
    "predictions = point2.predict(test_data)\n",
    "print(metrics.accuracy_score(test_labels, predictions))"
   ]
  },
  {
   "cell_type": "code",
   "execution_count": 32,
   "metadata": {},
   "outputs": [
    {
     "name": "stdout",
     "output_type": "stream",
     "text": [
      "Answer 2 is 0.927048417132216\n"
     ]
    }
   ],
   "source": [
    "cvs = cross_val_score(point2, X, y, cv=10)\n",
    "print('Answer 2 is', cvs.mean())"
   ]
  },
  {
   "cell_type": "code",
   "execution_count": 50,
   "metadata": {},
   "outputs": [],
   "source": [
    "import math\n",
    "point3 = ensemble.BaggingClassifier(base_estimator=tree.DecisionTreeClassifier(),\n",
    "                                    n_estimators=100, max_features = int(math.sqrt(X.shape[1])))"
   ]
  },
  {
   "cell_type": "code",
   "execution_count": 51,
   "metadata": {},
   "outputs": [],
   "source": [
    "cvs = cross_val_score(point3, X, y, cv=10)\n"
   ]
  },
  {
   "cell_type": "code",
   "execution_count": 52,
   "metadata": {},
   "outputs": [
    {
     "name": "stdout",
     "output_type": "stream",
     "text": [
      "Answer 3 is 0.9265518311607697\n"
     ]
    }
   ],
   "source": [
    "print('Answer 3 is', cvs.mean())"
   ]
  },
  {
   "cell_type": "code",
   "execution_count": 55,
   "metadata": {},
   "outputs": [
    {
     "name": "stdout",
     "output_type": "stream",
     "text": [
      "Answer 4 is 0.9504748603351955\n"
     ]
    }
   ],
   "source": [
    "point4 = ensemble.BaggingClassifier(base_estimator=tree.DecisionTreeClassifier(max_features = int(math.sqrt(X.shape[1]))),\n",
    "                                    n_estimators=100)\n",
    "cvs = cross_val_score(point4, X, y, cv=10)\n",
    "print('Answer 4 is', cvs.mean())"
   ]
  },
  {
   "cell_type": "code",
   "execution_count": 74,
   "metadata": {},
   "outputs": [
    {
     "name": "stdout",
     "output_type": "stream",
     "text": [
      "0.9448944754810675\n"
     ]
    }
   ],
   "source": [
    "point5 = ensemble.RandomForestClassifier(n_estimators=50, max_depth=100)\n",
    "print(cross_val_score(point5, X, y, cv=10).mean())"
   ]
  },
  {
   "cell_type": "code",
   "execution_count": null,
   "metadata": {},
   "outputs": [],
   "source": []
  }
 ],
 "metadata": {
  "kernelspec": {
   "display_name": "Python 3",
   "language": "python",
   "name": "python3"
  },
  "language_info": {
   "codemirror_mode": {
    "name": "ipython",
    "version": 3
   },
   "file_extension": ".py",
   "mimetype": "text/x-python",
   "name": "python",
   "nbconvert_exporter": "python",
   "pygments_lexer": "ipython3",
   "version": "3.8.3"
  }
 },
 "nbformat": 4,
 "nbformat_minor": 4
}
