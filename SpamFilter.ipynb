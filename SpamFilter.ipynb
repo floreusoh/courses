{
 "cells": [
  {
   "cell_type": "markdown",
   "id": "cd3d70dd",
   "metadata": {},
   "source": [
    "## Классификация текстов: спам-фильтр для SMS\n",
    "\n",
    "В этом задании вам предстоит взять открытый датасет с SMS-сообщениями, размеченными на спам (\"spam\") и не спам (\"ham\"), построить на нем классификатор текстов на эти два класса, оценить его качество с помощью кросс-валидации, протестировать его работу на отдельных примерах, и посмотреть, что будет происходить с качеством, если менять параметры вашей модели.\n",
    "\n",
    "Задание\n",
    "\n",
    "1. Загрузите датасет. Описание датасета можно посмотреть здесь.\n",
    "2. Считайте датасет в Python (можете сразу грузить все в память, выборка небольшая), выясните, что используется в качестве разделителей и как проставляются метки классов.\n",
    "\n",
    "\n"
   ]
  },
  {
   "cell_type": "code",
   "execution_count": 1,
   "id": "51266bce",
   "metadata": {},
   "outputs": [],
   "source": [
    "import pandas as pd\n",
    "import numpy as np\n",
    "from sklearn.feature_extraction.text import TfidfTransformer, CountVectorizer, TfidfVectorizer\n",
    "from sklearn.linear_model import LogisticRegression, SGDClassifier\n",
    "from sklearn.naive_bayes import MultinomialNB\n",
    "from sklearn.svm import LinearSVC\n",
    "from sklearn.model_selection import cross_val_score\n",
    "from sklearn.pipeline import Pipeline"
   ]
  },
  {
   "cell_type": "code",
   "execution_count": 2,
   "id": "0e66d14f",
   "metadata": {},
   "outputs": [],
   "source": [
    "data = pd.read_csv('SMSSpamCollection.txt', header=None, sep='\\t', names = ['label','text'])"
   ]
  },
  {
   "cell_type": "code",
   "execution_count": 3,
   "id": "e43afb86",
   "metadata": {},
   "outputs": [
    {
     "data": {
      "text/html": [
       "<div>\n",
       "<style scoped>\n",
       "    .dataframe tbody tr th:only-of-type {\n",
       "        vertical-align: middle;\n",
       "    }\n",
       "\n",
       "    .dataframe tbody tr th {\n",
       "        vertical-align: top;\n",
       "    }\n",
       "\n",
       "    .dataframe thead th {\n",
       "        text-align: right;\n",
       "    }\n",
       "</style>\n",
       "<table border=\"1\" class=\"dataframe\">\n",
       "  <thead>\n",
       "    <tr style=\"text-align: right;\">\n",
       "      <th></th>\n",
       "      <th>label</th>\n",
       "      <th>text</th>\n",
       "    </tr>\n",
       "  </thead>\n",
       "  <tbody>\n",
       "    <tr>\n",
       "      <th>0</th>\n",
       "      <td>ham</td>\n",
       "      <td>Go until jurong point, crazy.. Available only ...</td>\n",
       "    </tr>\n",
       "    <tr>\n",
       "      <th>1</th>\n",
       "      <td>ham</td>\n",
       "      <td>Ok lar... Joking wif u oni...</td>\n",
       "    </tr>\n",
       "    <tr>\n",
       "      <th>2</th>\n",
       "      <td>spam</td>\n",
       "      <td>Free entry in 2 a wkly comp to win FA Cup fina...</td>\n",
       "    </tr>\n",
       "    <tr>\n",
       "      <th>3</th>\n",
       "      <td>ham</td>\n",
       "      <td>U dun say so early hor... U c already then say...</td>\n",
       "    </tr>\n",
       "    <tr>\n",
       "      <th>4</th>\n",
       "      <td>ham</td>\n",
       "      <td>Nah I don't think he goes to usf, he lives aro...</td>\n",
       "    </tr>\n",
       "  </tbody>\n",
       "</table>\n",
       "</div>"
      ],
      "text/plain": [
       "  label                                               text\n",
       "0   ham  Go until jurong point, crazy.. Available only ...\n",
       "1   ham                      Ok lar... Joking wif u oni...\n",
       "2  spam  Free entry in 2 a wkly comp to win FA Cup fina...\n",
       "3   ham  U dun say so early hor... U c already then say...\n",
       "4   ham  Nah I don't think he goes to usf, he lives aro..."
      ]
     },
     "execution_count": 3,
     "metadata": {},
     "output_type": "execute_result"
    }
   ],
   "source": [
    "data.head()"
   ]
  },
  {
   "cell_type": "code",
   "execution_count": 4,
   "id": "dabe8ab9",
   "metadata": {},
   "outputs": [],
   "source": [
    "#with open('SMSSpamCollection.txt', 'r') as f:\n",
    "#    sms = f.read().splitlines()"
   ]
  },
  {
   "cell_type": "markdown",
   "id": "0a204520",
   "metadata": {},
   "source": [
    "3. Подготовьте для дальнейшей работы два списка: список текстов в порядке их следования в датасете и список соответствующих им меток классов. В качестве метки класса используйте 1 для спама и 0 для \"не спама\".\n"
   ]
  },
  {
   "cell_type": "code",
   "execution_count": 11,
   "id": "6fbba447",
   "metadata": {},
   "outputs": [],
   "source": [
    "sms_label_bi, sms_text = list([0 if i=='ham' else 1 for i in data[\"label\"]]), list(data[\"text\"])"
   ]
  },
  {
   "cell_type": "code",
   "execution_count": 42,
   "id": "697574cf",
   "metadata": {},
   "outputs": [],
   "source": [
    "#sms_label, sms_text = zip(*[line.split('\\t') for line in sms])"
   ]
  },
  {
   "cell_type": "code",
   "execution_count": 43,
   "id": "695757af",
   "metadata": {},
   "outputs": [],
   "source": [
    "#sms_label_bi = np.array([0 if t=='ham' else 1 for t in sms_label])"
   ]
  },
  {
   "cell_type": "markdown",
   "id": "804e30d1",
   "metadata": {},
   "source": [
    "4. Используя sklearn.feature_extraction.text.CountVectorizer со стандартными настройками, получите из списка текстов матрицу признаков X.\n"
   ]
  },
  {
   "cell_type": "code",
   "execution_count": 16,
   "id": "a89b96eb",
   "metadata": {},
   "outputs": [],
   "source": [
    "X_counts = CountVectorizer().fit_transform(sms_text)"
   ]
  },
  {
   "cell_type": "markdown",
   "id": "364fce0d",
   "metadata": {},
   "source": [
    "\n",
    "5. Оцените качество классификации текстов с помощью LogisticRegression() с параметрами по умолчанию, используя sklearn.cross_validation.cross_val_score и посчитав среднее арифметическое качества на отдельных fold'ах. Установите random_state=2. Параметр cv задайте равным 10. В качестве метрики качества используйте f1-меру. Получившееся качество - один из ответов, которые потребуются при сдаче задания. Ответ округлить до 1 знака после запятой."
   ]
  },
  {
   "cell_type": "code",
   "execution_count": 8,
   "id": "4e78af0b",
   "metadata": {},
   "outputs": [],
   "source": [
    "pipeline = Pipeline([('count_vect', CountVectorizer()), ('log_reg', LogisticRegression(random_state=2))])"
   ]
  },
  {
   "cell_type": "code",
   "execution_count": 12,
   "id": "b63c0fc7",
   "metadata": {},
   "outputs": [],
   "source": [
    "random_state=2\n",
    "scores = cross_val_score(pipeline, sms_text, sms_label_bi, scoring='f1', cv=10)"
   ]
  },
  {
   "cell_type": "code",
   "execution_count": 13,
   "id": "db39496c",
   "metadata": {},
   "outputs": [
    {
     "data": {
      "text/plain": [
       "0.9311542822856882"
      ]
     },
     "execution_count": 13,
     "metadata": {},
     "output_type": "execute_result"
    }
   ],
   "source": [
    "scores.mean()"
   ]
  },
  {
   "cell_type": "code",
   "execution_count": 14,
   "id": "760be451",
   "metadata": {},
   "outputs": [],
   "source": [
    "with open('ans1.txt', 'w') as f:\n",
    "    ans1 = str(round(scores.mean(), 1))\n",
    "    f.write(ans1)"
   ]
  },
  {
   "cell_type": "markdown",
   "id": "23cc93bb",
   "metadata": {},
   "source": [
    "6. А теперь обучите классификатор на всей выборке и спрогнозируйте с его помощью класс для следующих сообщений:\n",
    "\n",
    "\"FreeMsg: Txt: CALL to No: 86888 & claim your reward of 3 hours talk time to use from your phone now! Subscribe6GB\"\n",
    "\n",
    "\"FreeMsg: Txt: claim your reward of 3 hours talk time\"\n",
    "\n",
    "\"Have you visited the last lecture on physics?\"\n",
    "\n",
    "\"Have you visited the last lecture on physics? Just buy this book and you will have all materials! Only 99$\"\n",
    "\n",
    "\"Only 99$\"\n",
    "\n",
    "Прогнозы классификатора (0 - не спам, 1 - спам), записанные через пробел, будут ответом в одном из вопросов ниже.\n",
    "\n"
   ]
  },
  {
   "cell_type": "code",
   "execution_count": 15,
   "id": "5c317677",
   "metadata": {},
   "outputs": [],
   "source": [
    "sms_train = [\"FreeMsg: Txt: CALL to No: 86888 & claim your reward of 3 hours talk time to use from your phone now! Subscribe6GB\",\n",
    "            \"FreeMsg: Txt: claim your reward of 3 hours talk time\",\n",
    "            \"Have you visited the last lecture on physics?\",\n",
    "            \"Have you visited the last lecture on physics? Just buy this book and you will have all materials! Only 99$\",\n",
    "            \"Only 99$\"]"
   ]
  },
  {
   "cell_type": "code",
   "execution_count": 17,
   "id": "cec78a13",
   "metadata": {},
   "outputs": [
    {
     "data": {
      "text/plain": [
       "Pipeline(steps=[('count_vect', CountVectorizer()),\n",
       "                ('log_reg', LogisticRegression(random_state=2))])"
      ]
     },
     "execution_count": 17,
     "metadata": {},
     "output_type": "execute_result"
    }
   ],
   "source": [
    "pipeline.fit(sms_text, sms_label_bi)"
   ]
  },
  {
   "cell_type": "code",
   "execution_count": 18,
   "id": "6c7c65d4",
   "metadata": {},
   "outputs": [
    {
     "data": {
      "text/plain": [
       "array([1, 1, 0, 0, 0])"
      ]
     },
     "execution_count": 18,
     "metadata": {},
     "output_type": "execute_result"
    }
   ],
   "source": [
    "sms_test_pr = pipeline.predict(sms_train)\n",
    "sms_test_pr"
   ]
  },
  {
   "cell_type": "code",
   "execution_count": 19,
   "id": "4a58adf3",
   "metadata": {},
   "outputs": [],
   "source": [
    "with open('ans2.txt', 'w') as f:\n",
    "    ans2 = ' '.join(map(str, sms_test_pr))\n",
    "    f.write(ans2)"
   ]
  },
  {
   "cell_type": "markdown",
   "id": "ea7a9fc6",
   "metadata": {},
   "source": [
    "7. Задайте в CountVectorizer параметр ngram_range=(2,2), затем ngram_range=(3,3), затем ngram_range=(1,3). Во всех трех случаях измерьте получившееся в кросс-валидации значение f1-меры, округлите до второго знака после точки, и выпишете результаты через пробел в том же порядке. В данном эксперименте мы пробовали добавлять в признаки n-граммы для разных диапазонов n - только биграммы, только триграммы, и, наконец, все вместе - униграммы, биграммы и триграммы. Обратите внимание, что статистики по биграммам и триграммам намного меньше, поэтому классификатор только на них работает хуже. В то же время это не ухудшает результат сколько-нибудь существенно, если добавлять их вместе с униграммами, т.к. за счет регуляризации линейный классификатор не склонен сильно переобучаться на этих признаках.\n",
    "\n"
   ]
  },
  {
   "cell_type": "code",
   "execution_count": 20,
   "id": "65b69724",
   "metadata": {},
   "outputs": [
    {
     "name": "stdout",
     "output_type": "stream",
     "text": [
      "Ngram_range:  (2, 2)\n",
      "Cross-val-score f1: 0.8169\n",
      "\n",
      "Ngram_range:  (3, 3)\n",
      "Cross-val-score f1: 0.7250\n",
      "\n",
      "Ngram_range:  (1, 3)\n",
      "Cross-val-score f1: 0.9217\n",
      "\n"
     ]
    }
   ],
   "source": [
    "ngram_range = [(2,2), (3,3), (1,3)]\n",
    "\n",
    "scores = []\n",
    "for ngram in ngram_range:\n",
    "    pipeline = Pipeline([('count_vect', CountVectorizer(ngram_range=ngram)), ('log_reg', LogisticRegression())])\n",
    "    score = cross_val_score(pipeline, sms_text, sms_label_bi, scoring='f1', cv=10).mean()\n",
    "    scores.append(score)\n",
    "    print('Ngram_range: ', ngram)\n",
    "    print('Cross-val-score f1: %.4f\\n' % score)\n"
   ]
  },
  {
   "cell_type": "code",
   "execution_count": 21,
   "id": "d0e18077",
   "metadata": {},
   "outputs": [],
   "source": [
    "with open('ans3.txt', 'w') as f:\n",
    "    ans3 = ' '.join(map(str, ['%.2f' % sc for sc in scores]))\n",
    "    f.write(ans3)"
   ]
  },
  {
   "cell_type": "markdown",
   "id": "b67ce84d",
   "metadata": {},
   "source": [
    "8. Повторите аналогичный п.7 эксперимент, используя вместо логистической регрессии MultinomialNB(). Обратите внимание, насколько сильнее (по сравнению с линейным классификатором) наивный Байес страдает от нехватки статистики по биграммам и триграммам.\n",
    "\n",
    " По какой-то причине  обучение наивного байесовского классификатора через Pipeline происходит с ошибкой. Чтобы получить правильный ответ, отдельно  посчитайте частоты слов и обучите классификатор.  \n",
    "\n"
   ]
  },
  {
   "cell_type": "code",
   "execution_count": 22,
   "id": "10f84986",
   "metadata": {},
   "outputs": [
    {
     "name": "stdout",
     "output_type": "stream",
     "text": [
      "Ngram_range:  (2, 2)\n",
      "Cross-val-score f1: 0.9338\n",
      "\n",
      "Ngram_range:  (3, 3)\n",
      "Cross-val-score f1: 0.8711\n",
      "\n",
      "Ngram_range:  (1, 3)\n",
      "Cross-val-score f1: 0.9472\n",
      "\n"
     ]
    }
   ],
   "source": [
    "scores = []\n",
    "for ngram in ngram_range:\n",
    "    pipeline = Pipeline([('count_vect', CountVectorizer(ngram_range=ngram)), ('mn_nb', MultinomialNB())])\n",
    "    score = cross_val_score(pipeline, sms_text, sms_label_bi, scoring='f1', cv=10).mean()\n",
    "    scores.append(score)\n",
    "    print('Ngram_range: ', ngram)\n",
    "    print('Cross-val-score f1: %.4f\\n' % score)"
   ]
  },
  {
   "cell_type": "code",
   "execution_count": 23,
   "id": "ebc306c1",
   "metadata": {},
   "outputs": [
    {
     "name": "stdout",
     "output_type": "stream",
     "text": [
      "Ngram_range:  (2, 2)\n",
      "Cross-val-score f1: 0.6458\n",
      "\n",
      "Ngram_range:  (3, 3)\n",
      "Cross-val-score f1: 0.3786\n",
      "\n",
      "Ngram_range:  (1, 3)\n",
      "Cross-val-score f1: 0.8885\n",
      "\n"
     ]
    }
   ],
   "source": [
    "scores = []\n",
    "for ngram in ngram_range:\n",
    "    X_counts = CountVectorizer(ngram_range=ngram).fit_transform(sms_text)\n",
    "    mn_nb = MultinomialNB()\n",
    "    score = cross_val_score(mn_nb, X_counts, sms_label_bi, scoring='f1', cv=10).mean()\n",
    "    scores.append(score)\n",
    "    print('Ngram_range: ', ngram)\n",
    "    print('Cross-val-score f1: %.4f\\n' % score)"
   ]
  },
  {
   "cell_type": "code",
   "execution_count": 24,
   "id": "328560e2",
   "metadata": {},
   "outputs": [],
   "source": [
    "with open('ans4.txt', 'w') as f:\n",
    "    ans4 = ' '.join(map(str, ['%.2f' % sc for sc in scores]))\n",
    "    f.write(ans4)"
   ]
  },
  {
   "cell_type": "markdown",
   "id": "33836de8",
   "metadata": {},
   "source": [
    "9. Попробуйте использовать в логистической регрессии в качестве признаков Tf*idf из TfidfVectorizer на униграммах. Повысилось или понизилось качество на кросс-валидации по сравнению с CountVectorizer на униграммах? (напишите в файле с ответом 1, если повысилось, -1, если понизилось, и 0, если изменилось не более чем на 0.01). Обратите внимание, что результат перехода к tf*idf не всегда будет таким - если вы наблюдаете какое-то явление на одном датасете, не надо сразу же его обобщать на любые данные."
   ]
  },
  {
   "cell_type": "code",
   "execution_count": 25,
   "id": "c7bcc55b",
   "metadata": {},
   "outputs": [
    {
     "name": "stdout",
     "output_type": "stream",
     "text": [
      "Cross-val-score f1: 0.8777\n",
      "\n"
     ]
    }
   ],
   "source": [
    "pipeline = Pipeline([('tf_idf', TfidfVectorizer()),\n",
    "                     ('log_reg', LogisticRegression())])\n",
    "score = cross_val_score(pipeline, sms_text, sms_label_bi, scoring='f1', cv=10).mean()\n",
    "print('Cross-val-score f1: %.4f\\n' % score)"
   ]
  },
  {
   "cell_type": "code",
   "execution_count": 26,
   "id": "7bfb577e",
   "metadata": {},
   "outputs": [],
   "source": [
    "with open('ans5.txt', 'w') as f:\n",
    "    ans5 = str(-1)\n",
    "    f.write(ans5)"
   ]
  },
  {
   "cell_type": "code",
   "execution_count": null,
   "id": "bd52d726",
   "metadata": {},
   "outputs": [],
   "source": []
  }
 ],
 "metadata": {
  "kernelspec": {
   "display_name": "Python 3 (ipykernel)",
   "language": "python",
   "name": "python3"
  },
  "language_info": {
   "codemirror_mode": {
    "name": "ipython",
    "version": 3
   },
   "file_extension": ".py",
   "mimetype": "text/x-python",
   "name": "python",
   "nbconvert_exporter": "python",
   "pygments_lexer": "ipython3",
   "version": "3.8.12"
  }
 },
 "nbformat": 4,
 "nbformat_minor": 5
}
