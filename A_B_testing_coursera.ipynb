{
 "cells": [
  {
   "cell_type": "markdown",
   "metadata": {},
   "source": [
    "# Анализ результатов АБ-теста\n",
    "В данном задании вам нужно будет\n",
    "\n",
    "+ проанализировать АБ  тест,  проведенный на реальных пользователях Яндекса\n",
    "+ подтвердить или опровергнуть наличие изменений в пользовательском поведении между контрольной (control)  и тестовой (exp)  группами\n",
    "+ определить характер этих изменений и практическую значимость вводимого изменения\n",
    "+ понять, какая из пользовательских групп более всего проигрывает / выигрывает   от тестируемого изменения (локализовать изменение)"
   ]
  },
  {
   "cell_type": "code",
   "execution_count": 1,
   "metadata": {},
   "outputs": [],
   "source": [
    "import numpy as np\n",
    "import pandas as pd\n",
    "import matplotlib.pyplot as plt\n",
    "import random\n",
    "import scipy.stats as stats\n",
    "import statsmodels.stats.api as sms\n",
    "from statsmodels.sandbox.stats.multicomp import multipletests \n",
    "import seaborn as sns\n",
    "from math import ceil\n",
    "\n",
    "%matplotlib inline"
   ]
  },
  {
   "cell_type": "code",
   "execution_count": 2,
   "metadata": {},
   "outputs": [],
   "source": [
    "df = pd.read_csv('ab_browser_test.csv')"
   ]
  },
  {
   "cell_type": "code",
   "execution_count": 3,
   "metadata": {},
   "outputs": [
    {
     "data": {
      "text/html": [
       "<div>\n",
       "<style scoped>\n",
       "    .dataframe tbody tr th:only-of-type {\n",
       "        vertical-align: middle;\n",
       "    }\n",
       "\n",
       "    .dataframe tbody tr th {\n",
       "        vertical-align: top;\n",
       "    }\n",
       "\n",
       "    .dataframe thead th {\n",
       "        text-align: right;\n",
       "    }\n",
       "</style>\n",
       "<table border=\"1\" class=\"dataframe\">\n",
       "  <thead>\n",
       "    <tr style=\"text-align: right;\">\n",
       "      <th></th>\n",
       "      <th>userID</th>\n",
       "      <th>browser</th>\n",
       "      <th>slot</th>\n",
       "      <th>n_clicks</th>\n",
       "      <th>n_queries</th>\n",
       "      <th>n_nonclk_queries</th>\n",
       "    </tr>\n",
       "  </thead>\n",
       "  <tbody>\n",
       "    <tr>\n",
       "      <th>0</th>\n",
       "      <td>1</td>\n",
       "      <td>Browser #2</td>\n",
       "      <td>exp</td>\n",
       "      <td>23</td>\n",
       "      <td>32</td>\n",
       "      <td>19</td>\n",
       "    </tr>\n",
       "    <tr>\n",
       "      <th>1</th>\n",
       "      <td>3</td>\n",
       "      <td>Browser #4</td>\n",
       "      <td>exp</td>\n",
       "      <td>3</td>\n",
       "      <td>4</td>\n",
       "      <td>2</td>\n",
       "    </tr>\n",
       "    <tr>\n",
       "      <th>2</th>\n",
       "      <td>5</td>\n",
       "      <td>Browser #4</td>\n",
       "      <td>exp</td>\n",
       "      <td>29</td>\n",
       "      <td>35</td>\n",
       "      <td>16</td>\n",
       "    </tr>\n",
       "    <tr>\n",
       "      <th>3</th>\n",
       "      <td>6</td>\n",
       "      <td>Browser #4</td>\n",
       "      <td>control</td>\n",
       "      <td>12</td>\n",
       "      <td>6</td>\n",
       "      <td>0</td>\n",
       "    </tr>\n",
       "    <tr>\n",
       "      <th>4</th>\n",
       "      <td>7</td>\n",
       "      <td>Browser #4</td>\n",
       "      <td>exp</td>\n",
       "      <td>54</td>\n",
       "      <td>68</td>\n",
       "      <td>30</td>\n",
       "    </tr>\n",
       "  </tbody>\n",
       "</table>\n",
       "</div>"
      ],
      "text/plain": [
       "   userID     browser     slot  n_clicks  n_queries  n_nonclk_queries\n",
       "0       1  Browser #2      exp        23         32                19\n",
       "1       3  Browser #4      exp         3          4                 2\n",
       "2       5  Browser #4      exp        29         35                16\n",
       "3       6  Browser #4  control        12          6                 0\n",
       "4       7  Browser #4      exp        54         68                30"
      ]
     },
     "execution_count": 3,
     "metadata": {},
     "output_type": "execute_result"
    }
   ],
   "source": [
    "df.head()"
   ]
  },
  {
   "cell_type": "markdown",
   "metadata": {},
   "source": [
    "### Описание  данных:\n",
    "\n",
    "+ userID:  уникальный идентификатор пользователя\n",
    "+ browser:  браузер, который использовал userID\n",
    "+ slot: в каком статусе пользователь участвовал в исследовании (exp = видел измененную страницу, control  = видел неизменную страницу)\n",
    "+ n_clicks: количество кликов, которые пользоваль совершил за n_queries\n",
    "+ n_queries: количество запросов, который совершил userID, пользуясь браузером browser\n",
    "+ n_nonclk_queries: количество запросов пользователя, в которых  им не было совершено ни одного клика\n",
    "\n",
    "Обращаем ваше внимание, что не все люди используют только один браузер, поэтому в столбце userID есть повторяющиеся идентификаторы. В предлагаемых данных  уникальным является сочетание userID и browser."
   ]
  },
  {
   "cell_type": "markdown",
   "metadata": {},
   "source": [
    "### Вопрос 1\n",
    "Основная метрика, на которой мы сосредоточимся в этой работе, — это количество пользовательских кликов на web-странице в зависимости от тестируемого изменения этой страницы. \n",
    "\n",
    "Посчитайте, насколько в группе exp больше пользовательских кликов по сравнению с группой control в процентах от числа кликов в контрольной группе.\n",
    "\n",
    "Полученный процент округлите  до третьего знака после точки. "
   ]
  },
  {
   "cell_type": "code",
   "execution_count": 4,
   "metadata": {},
   "outputs": [
    {
     "data": {
      "text/plain": [
       "control    284554\n",
       "exp        281580\n",
       "Name: slot, dtype: int64"
      ]
     },
     "execution_count": 4,
     "metadata": {},
     "output_type": "execute_result"
    }
   ],
   "source": [
    "df.slot.value_counts()"
   ]
  },
  {
   "cell_type": "code",
   "execution_count": 5,
   "metadata": {},
   "outputs": [],
   "source": [
    "#indices split by groups\n",
    "exp = df.slot.loc[df.slot == 'exp'].index\n",
    "ctrl = df.slot.loc[df.slot == 'control'].index"
   ]
  },
  {
   "cell_type": "code",
   "execution_count": 6,
   "metadata": {},
   "outputs": [
    {
     "name": "stdout",
     "output_type": "stream",
     "text": [
      "Total number of clicks in each group\n",
      "Exp: 3261823\n",
      "Control: 3210027\n",
      "Answer 1: 1.614000 \n"
     ]
    }
   ],
   "source": [
    "#total number of clicks in each group\n",
    "exp_cl_num = df.n_clicks.loc[exp].sum()\n",
    "ctrl_cl_num = df.n_clicks.loc[ctrl].sum()\n",
    "answer1 = ((exp_cl_num-ctrl_cl_num)*100 / ctrl_cl_num)\n",
    "print('Total number of clicks in each group')\n",
    "print('Exp: %d' % exp_cl_num)\n",
    "print('Control: %d' % ctrl_cl_num)\n",
    "print('Answer 1: %f ' % round(answer1,3))"
   ]
  },
  {
   "cell_type": "markdown",
   "metadata": {},
   "source": [
    "### Вопрос 2\n",
    "\n",
    "Давайте попробуем посмотреть более внимательно на разницу между двумя группами (control и exp) относительно количества пользовательских кликов.\n",
    "\n",
    "Для этого постройте с помощью бутстрепа 95% доверительный интервал для средних значений и медиан количества кликов в каждой из двух групп. Отметьте все верные утверждения. \n",
    "\n",
    "+ 95% доверительный интервал для разности медиан содержит ноль, похоже, медианы существенно не отличаются НЕТ\n",
    "\n",
    "+ Применение bootstrap на выборках такого большого размера неправомерно, потому что bootstrap делает псведовыборки с возвращениями, а с ростом объема исходной выборки  псведовыборки с возвращениями становятся более похожими на псведовыборки без возвращения. НЕТ\n",
    "\n",
    "+ 95% доверительный интервал для разности средних содержит ноль, похоже, средние существенно не отличаются НЕТ\n",
    "\n",
    "+ 95% доверительный интервал для разности медиан не содержит ноль, похоже, медианы отличаются статистически значимо ДА\n",
    "\n",
    "+ 95% доверительный интервал для разности средних не содержит ноль, похоже, средние отличаются статистически значимо ДА"
   ]
  },
  {
   "cell_type": "code",
   "execution_count": 17,
   "metadata": {},
   "outputs": [
    {
     "name": "stdout",
     "output_type": "stream",
     "text": [
      "Mean number of clicks in each group\n",
      "Exp: 11.5840\n",
      "Control: 11.2809\n",
      "\n",
      "Median number of clicks in each group\n",
      "Exp: 5\n",
      "Control: 4\n"
     ]
    }
   ],
   "source": [
    "###### Clicks mean values\n",
    "exp_cl_mean = df.n_clicks.loc[exp].mean()\n",
    "ctrl_cl_mean = df.n_clicks.loc[ctrl].mean()\n",
    "print('Mean number of clicks in each group')\n",
    "print('Exp: %.4f' % exp_cl_mean)\n",
    "print('Control: %.4f' % ctrl_cl_mean)\n",
    "print('')\n",
    "\n",
    "#Clicks median values\n",
    "exp_cl_mean = df.n_clicks.loc[exp].median()\n",
    "ctrl_cl_mean = df.n_clicks.loc[ctrl].median()\n",
    "print('Median number of clicks in each group')\n",
    "print('Exp: %d' % exp_cl_mean)\n",
    "print('Control: %d' % ctrl_cl_mean)"
   ]
  },
  {
   "cell_type": "code",
   "execution_count": 8,
   "metadata": {},
   "outputs": [],
   "source": [
    "def get_bootstrap_samples(data, n_samples):\n",
    "    indices = np.random.randint(0, len(data), (n_samples, len(data)))\n",
    "    samples = data[indices]\n",
    "    return samples"
   ]
  },
  {
   "cell_type": "code",
   "execution_count": 9,
   "metadata": {},
   "outputs": [],
   "source": [
    "def stat_intervals(stat, alpha):\n",
    "    boundaries = np.percentile(stat, [100 * alpha / 2., 100 * (1 - alpha / 2.)])\n",
    "    return boundaries"
   ]
  },
  {
   "cell_type": "code",
   "execution_count": 10,
   "metadata": {},
   "outputs": [
    {
     "name": "stdout",
     "output_type": "stream",
     "text": [
      "Wall time: 54.4 s\n",
      "Parser   : 160 ms\n"
     ]
    }
   ],
   "source": [
    "%%time\n",
    "#confidence intervals estimation\n",
    "np.random.seed(0)\n",
    "\n",
    "num_of_samples = 500\n",
    "\n",
    "exp_cl_mean, ctrl_cl_mean = np.empty(num_of_samples), np.empty(num_of_samples)\n",
    "exp_cl_median, ctrl_cl_median = np.empty(num_of_samples), np.empty(num_of_samples)\n",
    "\n",
    "ctrl_cl_var = np.empty(num_of_samples)\n",
    "\n",
    "exp_data = get_bootstrap_samples(df.n_clicks.loc[exp].values, num_of_samples)\n",
    "ctrl_data = get_bootstrap_samples(df.n_clicks.loc[ctrl].values, num_of_samples)\n",
    "\n",
    "for i in range(num_of_samples):\n",
    "    exp_cl_mean[i], ctrl_cl_mean[i] = exp_data[i].mean(), ctrl_data[i].mean() \n",
    "    exp_cl_median[i], ctrl_cl_median[i] = np.median(exp_data[i]), np.median(ctrl_data[i])\n",
    "    \n",
    "    ctrl_cl_var[i] = ctrl_data[i].var()"
   ]
  },
  {
   "cell_type": "code",
   "execution_count": 14,
   "metadata": {},
   "outputs": [
    {
     "name": "stdout",
     "output_type": "stream",
     "text": [
      "Conf. int. delta mean: [0.1996, 0.4050]\n",
      "Conf. int. delta median: [1, 1]\n",
      "legend: diff = exp - control\n"
     ]
    }
   ],
   "source": [
    "delta_mean = list(map(lambda x: x[0] - x[1], zip(exp_cl_mean, ctrl_cl_mean)))\n",
    "delta_median = list(map(lambda x: x[0] - x[1], zip(exp_cl_median, ctrl_cl_median)))\n",
    "\n",
    "delta_mean_bnd = stat_intervals(delta_mean, 0.05)\n",
    "delta_median_bnd = stat_intervals(delta_median, 0.05)\n",
    "\n",
    "print('Conf. int. delta mean: [%.4f, %.4f]' % (delta_mean_bnd[0], delta_mean_bnd[1]))\n",
    "print('Conf. int. delta median: [%d, %d]' % (delta_median_bnd[0], delta_median_bnd[1]))\n",
    "print('legend: diff = exp - control')"
   ]
  },
  {
   "cell_type": "markdown",
   "metadata": {},
   "source": [
    "### Вопрос 3\n",
    "Поскольку данных достаточно много (порядка полумиллиона уникальных пользователей), отличие в несколько процентов может быть не только практически значимым, но и  значимым статистически. Последнее утверждение нуждается в дополнительной проверке. \n",
    "\n",
    "Посмотрите на выданные вам данные и выберите все верные варианты ответа относительно проверки гипотезы о равенстве среднего количества кликов в группах. \n",
    "1 балл\n",
    "\n",
    "+ Используя центральную предельную теорему, мы можем заключить, что с ростом объема выборки любое исследуемое распределение, становится похожим на нормальное, а значит, учитывая большой объем нашей выборки, оптимальным критерием  в нашей задаче будет z-критерий.  НЕТ\n",
    "\n",
    "+ Все ответы неверны НЕТ\n",
    "\n",
    "+ Для проверки гипотезы о равенстве средних в данной задаче можно использовать только параметрические критерии, потому что непараметрические, как известно, с увеличением размера выборки могут давать непредсказуемые результаты в силу случайности в определении их нулевого распределения. ДА\n",
    "\n",
    "+ Гипотезу о равенстве средних между двумя выборками можно проверить с помощью построения доверительного интервала для среднего объединенной выборки, потому что в силу большого объема выборки этот интервал будет очень точным, и мы сможем надежно оценить необходимый доверительный интервал НЕТ\n",
    "\n",
    "+ Для проверки гипотезы о равенстве средних категорически нельзя использовать t-критерий Стьюдента ни при каком размере выборки, потому что количество кликов, которые мы исследуем, больше походят на распределение Пуассона, которое сильно отличается от нормального. НЕТ"
   ]
  },
  {
   "cell_type": "code",
   "execution_count": 15,
   "metadata": {},
   "outputs": [
    {
     "data": {
      "image/png": "[encoded data removed]",
      "text/plain": [
       "<Figure size 1080x360 with 2 Axes>"
      ]
     },
     "metadata": {
      "needs_background": "light"
     },
     "output_type": "display_data"
    }
   ],
   "source": [
    "_ = plt.figure(figsize=(15,5))\n",
    "_ = plt.subplot(121)\n",
    "_ = plt.hist(df.n_clicks.loc[exp], bins=100)\n",
    "_ = plt.title('Experiment group')\n",
    "_ = plt.subplot(122)\n",
    "_ = plt.hist(df.n_clicks.loc[ctrl], bins=100)\n",
    "_ = plt.title('Control group')"
   ]
  },
  {
   "cell_type": "markdown",
   "metadata": {},
   "source": [
    "### Вопрос 4\n",
    "\n",
    "t-критерий Стьюдента имеет множество достоинств, и потому его достаточно часто применяют в AB экспериментах. Иногда его применение может быть необоснованно из-за сильной скошенности распределения данных. \n",
    "\n",
    "Давайте постараемся понять, когда t-критерий можно применять и как это проверить на реальных данных. \n",
    "\n",
    "Для простоты рассмотрим одновыборочный t-критерий.  Его статистика имеет вид  Xˉ−μS2/n \\frac{\\bar{X} - \\mu}{ \\sqrt {S^2 / n}} S2/n\n",
    "\n",
    "​Xˉ−μ​, то есть чтобы действительно предположения t-критерия выполнялись необходимо, чтобы:\n",
    "\n",
    "+    X¯  —  среднее значение в выборке — было распределено нормально N(μ,σ2n)\n",
    "+    nσ2S2  — несмещенная оценка дисперсии c масштабирующим коэффициентом —  была распределена по хи-квадрат  c n−1 степенями свободы  χ2(n−1) \n",
    "\n",
    "Простое доказательство необходимости и достаточности этого требования  можно посмотреть в самом последнем абзаце этого вопроса. Усвоение этого доказательства не обязательно для выполнения задания.\n",
    "\n",
    "Оба этих предположения можно проверить с помощью бутстрепа. Ограничимся сейчас только контрольной группой, в которой распределение кликов будем называть данными  в рамках данного вопроса. \n",
    "\n",
    "Поскольку мы не знаем истинного распределения генеральной совокупности, мы можем применить бутстреп, чтобы понять, как распределены среднее значение и выборочная дисперсия. Для этого \n",
    "\n",
    "+    Получите из данных n_boot_samples  псевдовыборок. \n",
    "+    По каждой из этих выборок посчитайте среднее и сумму квадратов отклонения от выборочного среднего (control_boot_chi_squared) \n",
    "+    Для получившегося вектора средних значений из n_boot_samples постройте q-q plot с помощью scipy.stats.probplot для нормального распределения\n",
    "+    Для получившегося вектора  сумм квадратов отклонения от выборочного среднего постройте  qq-plot с помощью scipy.stats.probplot  для хи-квадрат распределения "
   ]
  },
  {
   "cell_type": "code",
   "execution_count": 55,
   "metadata": {},
   "outputs": [],
   "source": [
    "np.random.seed(0)\n",
    "n_boot_samples = 500"
   ]
  },
  {
   "cell_type": "code",
   "execution_count": 56,
   "metadata": {},
   "outputs": [
    {
     "data": {
      "image/png": "[encoded data removed]",
      "text/plain": [
       "<Figure size 432x288 with 1 Axes>"
      ]
     },
     "metadata": {
      "needs_background": "light"
     },
     "output_type": "display_data"
    }
   ],
   "source": [
    "#probability plot for means\n",
    "_ = stats.probplot(ctrl_cl_mean, plot=plt, rvalue=True)\n",
    "_ = plt.title('Probability plot for means')"
   ]
  },
  {
   "cell_type": "code",
   "execution_count": 57,
   "metadata": {},
   "outputs": [
    {
     "data": {
      "image/png": "[encoded data removed]",
      "text/plain": [
       "<Figure size 432x288 with 1 Axes>"
      ]
     },
     "metadata": {
      "needs_background": "light"
     },
     "output_type": "display_data"
    }
   ],
   "source": [
    "#probability plot for variances\n",
    "_ = stats.probplot(ctrl_cl_var, plot=plt, dist='chi2', sparams=(ctrl_cl_mean.shape[0]-1), rvalue=True)\n",
    "_ = plt.title('Probability plot for variances')"
   ]
  },
  {
   "cell_type": "markdown",
   "metadata": {},
   "source": [
    "### Вопрос 5\n",
    "\n",
    "Одним из возможных аналогов t-критерия, которым можно воспрользоваться, является тест Манна-Уитни. На достаточно обширном классе распределений он является асимптотически более эффективным, чем t-критерий, и при этом не требует параметрических предположений о характере распределения.\n",
    "\n",
    "Разделите выборку на две части, соответствующие control  и exp группам. Преобразуйте данные к виду, чтобы каждому пользователю  соответствовало суммарное значение его кликов. С помощью критерия Манна-Уитни проверьте гипотезу о равенстве средних. Что можно сказать о получившемся значении достигаемого уровня значимости ? Выберите все правильные ответы:"
   ]
  },
  {
   "cell_type": "markdown",
   "metadata": {},
   "source": [
    "+ Критерий Манна-Уитни в данной задаче применять нельзя, поэтому вопрос о достигаемом уровне значимости некорректен НЕТ\n",
    "\n",
    "+ Получившееся значение достигаемого уровня значимости свидетельствует о статистической значимости отличий между  двумя выборками ДА\n",
    "\n",
    "+ p<0.01, поэтому можно сказать, что отличия незначительны на уровне доверия 0.05 НЕТ\n",
    "\n",
    "+ Согласно полученному значению p-value,  мы вынуждены принять нулевую гипотезу НЕТ"
   ]
  },
  {
   "cell_type": "code",
   "execution_count": 18,
   "metadata": {},
   "outputs": [
    {
     "data": {
      "text/plain": [
       "userID  browser   \n",
       "1       Browser #2    23\n",
       "3       Browser #4     3\n",
       "5       Browser #4    29\n",
       "7       Browser #4    54\n",
       "9       Browser #4     6\n",
       "Name: n_clicks, dtype: int64"
      ]
     },
     "execution_count": 18,
     "metadata": {},
     "output_type": "execute_result"
    }
   ],
   "source": [
    "users_nclicks_exp = df.loc[exp].groupby(['userID', 'browser']).sum().loc[:,'n_clicks']\n",
    "users_nclicks_ctrl = df.loc[ctrl].groupby(['userID', 'browser']).sum().loc[:,'n_clicks']\n",
    "\n",
    "users_nclicks_exp.head()"
   ]
  },
  {
   "cell_type": "code",
   "execution_count": 19,
   "metadata": {},
   "outputs": [
    {
     "data": {
      "text/plain": [
       "userID  browser    \n",
       "6       Browser #4     12\n",
       "8       Browser #4      4\n",
       "10      Browser #4     22\n",
       "15      Browser #14     2\n",
       "23      Browser #4      3\n",
       "Name: n_clicks, dtype: int64"
      ]
     },
     "execution_count": 19,
     "metadata": {},
     "output_type": "execute_result"
    }
   ],
   "source": [
    "users_nclicks_ctrl.head()"
   ]
  },
  {
   "cell_type": "code",
   "execution_count": 20,
   "metadata": {},
   "outputs": [
    {
     "data": {
      "text/plain": [
       "MannwhitneyuResult(statistic=41184125116.0, pvalue=6.247235801369629e-75)"
      ]
     },
     "execution_count": 20,
     "metadata": {},
     "output_type": "execute_result"
    }
   ],
   "source": [
    "stats.mannwhitneyu(users_nclicks_exp, users_nclicks_ctrl, alternative='two-sided')"
   ]
  },
  {
   "cell_type": "markdown",
   "metadata": {},
   "source": [
    "### Вопрос 6\n",
    "\n",
    "Проверьте, для какого из браузеров наиболее сильно выражено отличие между количеством кликов в контрольной и экспериментальной группах.\n",
    "\n",
    "Для этого примените для каждого из срезов (по каждому из уникальных значений столбца browser) критерий Манна-Уитни между control и exp группами и сделайте поправку Холма-Бонферрони на множественную проверку с α=0.05\\alpha=0.05α=0.05.\n",
    "\n",
    "Какое заключение можно сделать исходя из полученных результатов ?\n",
    "\n",
    "В качестве ответа введите количество незначимых изменений с точки зрения результатов, полученных после введения коррекции. 5"
   ]
  },
  {
   "cell_type": "code",
   "execution_count": 21,
   "metadata": {},
   "outputs": [],
   "source": [
    "browsers_nclicks_exp = df.loc[exp].groupby(['browser', 'userID']).sum().loc[:,'n_clicks']\n",
    "browsers_nclicks_ctrl = df.loc[ctrl].groupby(['browser', 'userID']).sum().loc[:,'n_clicks']"
   ]
  },
  {
   "cell_type": "code",
   "execution_count": 30,
   "metadata": {},
   "outputs": [
    {
     "name": "stdout",
     "output_type": "stream",
     "text": [
      "Unique browsers numbers: ['Browser #14' 'Browser #17' 'Browser #2' 'Browser #20' 'Browser #22'\n",
      " 'Browser #4']\n",
      "\n",
      "Mann-Whitney rank test without multipletest\n",
      "Browser #14\n",
      "p-value = 0.0000\n",
      "Browser #17\n",
      "p-value = 0.0748\n",
      "Browser #2\n",
      "p-value = 0.0545\n",
      "Browser #20\n",
      "p-value = 0.9073\n",
      "Browser #22\n",
      "p-value = 0.5148\n",
      "Browser #4\n",
      "p-value = 0.8152\n",
      "\n",
      "Mann-Whitney rank test with multipletest\n",
      "Browser #14\n",
      "p-value = 0.0000\n",
      "Browser #17\n",
      "p-value = 0.2992\n",
      "Browser #2\n",
      "p-value = 0.2724\n",
      "Browser #20\n",
      "p-value = 1.0000\n",
      "Browser #22\n",
      "p-value = 1.0000\n",
      "Browser #4\n",
      "p-value = 1.0000\n"
     ]
    }
   ],
   "source": [
    "#Unique browsers\n",
    "browsers = np.unique(df.browser)\n",
    "print('Unique browsers numbers: ' + str(browsers))\n",
    "print('')\n",
    "\n",
    "print('Mann-Whitney rank test without multipletest')\n",
    "mw_p = np.empty(browsers.shape[0])\n",
    "for i, br in enumerate(browsers):\n",
    "    print(br),\n",
    "    _, mw_p[i] = stats.mannwhitneyu(browsers_nclicks_exp.loc[br, :], browsers_nclicks_ctrl.loc[br, :], alternative='two-sided')\n",
    "    print('p-value = %.4f' % mw_p[i])\n",
    "\n",
    "print('')\n",
    "print('Mann-Whitney rank test with multipletest')\n",
    "r, mw_p_corr, _, _ = multipletests(mw_p, alpha = 0.05, method = 'holm')\n",
    "for i, br in enumerate(browsers):\n",
    "    print(br),\n",
    "    print('p-value = %.4f' % mw_p_corr[i])"
   ]
  },
  {
   "cell_type": "code",
   "execution_count": 31,
   "metadata": {},
   "outputs": [
    {
     "data": {
      "text/plain": [
       "array([ True, False, False, False, False, False])"
      ]
     },
     "execution_count": 31,
     "metadata": {},
     "output_type": "execute_result"
    }
   ],
   "source": [
    "r"
   ]
  },
  {
   "cell_type": "markdown",
   "metadata": {},
   "source": [
    "### Вопрос 7\n",
    "\n",
    "Для каждого браузера в каждой из двух групп (control  и exp) посчитайте долю запросов, в которых пользователь не кликнул ни разу. Это можно сделать, поделив сумму значений  n_nonclk_queries  на сумму значений  n_queries. Умножив это значение на 100, получим процент некликнутых запросов, который можно легче  проинтерпретировать.\n",
    "\n",
    "Сходятся ли результаты проведенного Вами анализа с показателем процента некликнутых запросов ? Отметьте все верные утверждения. "
   ]
  },
  {
   "cell_type": "markdown",
   "metadata": {},
   "source": [
    "+ По всем браузерам мы видим незначительное уменьшение доли некликнутых запросов, поэтому делаем вывод о том, что тестируемое изменение приносит больше вреда, чем пользы. НЕТ\n",
    "\n",
    "+ По одному из браузеров мы видим значительное уменьшение доли некликнутых запросов, поэтому уже только на этом основании тестируемое изменение можно рекомендовать к применению для всех пользователей. НЕТ\n",
    "\n",
    "+ С помощью анализа, проведенного в предыдущем вопросе, мы показали, что тестируемое изменение приводит к статистически значимому отличию только для одного браузера. Для этого браузера на основе данных о доли некликнутых запросов, заключаем, что тестируемое изменение влияет на пользователей позитивно. ДА\n",
    "\n",
    "+ Тестируемое изменение можно предложить к внедрению только на тот сегмент пользователей, где локализуется изменение, то есть для того браузера, для которого  доля некликнутых запросов уменьшилась больше всего. Для прочих браузеров мы не обладаем никакой информацией относительно влияния тестируемого изменения на поведение пользователей. ДА"
   ]
  },
  {
   "cell_type": "code",
   "execution_count": 32,
   "metadata": {},
   "outputs": [
    {
     "name": "stdout",
     "output_type": "stream",
     "text": [
      "Control / experimental groups\n",
      "Browser #14\n",
      "[0.57590411] / [0.43755617]\n",
      "Browser #17\n",
      "[0.36299367] / [0.36937413]\n",
      "Browser #2\n",
      "[0.45962747] / [0.44982747]\n",
      "Browser #20\n",
      "[0.40540485] / [0.38977376]\n",
      "Browser #22\n",
      "[0.40593977] / [0.39853947]\n",
      "Browser #4\n",
      "[0.4697093] / [0.45142942]\n"
     ]
    }
   ],
   "source": [
    "browsers_nonclk_q_exp = df.loc[exp].groupby(['browser']).sum().loc[:,'n_nonclk_queries']\n",
    "browsers_clk_q_exp = df.loc[exp].groupby(['browser']).sum().loc[:,'n_queries']\n",
    "browsers_nonclk_q_prop_exp = browsers_nonclk_q_exp / browsers_clk_q_exp\n",
    "\n",
    "browsers_nonclk_q_ctrl = df.loc[ctrl].groupby(['browser']).sum().loc[:,'n_nonclk_queries']\n",
    "browsers_clk_q_ctrl = df.loc[ctrl].groupby(['browser']).sum().loc[:,'n_queries']\n",
    "browsers_nonclk_q_prop_ctrl = browsers_nonclk_q_ctrl / browsers_clk_q_ctrl\n",
    "\n",
    "print('Control / experimental groups')\n",
    "for br in browsers:\n",
    "    print(br)\n",
    "    print(browsers_nonclk_q_prop_ctrl.loc[browsers_nonclk_q_prop_ctrl.index == br].values, '/', \n",
    "          browsers_nonclk_q_prop_exp.loc[browsers_nonclk_q_prop_ctrl.index == br].values)\n",
    "    "
   ]
  },
  {
   "cell_type": "code",
   "execution_count": null,
   "metadata": {},
   "outputs": [],
   "source": []
  }
 ],
 "metadata": {
  "kernelspec": {
   "display_name": "Python 3",
   "language": "python",
   "name": "python3"
  },
  "language_info": {
   "codemirror_mode": {
    "name": "ipython",
    "version": 3
   },
   "file_extension": ".py",
   "mimetype": "text/x-python",
   "name": "python",
   "nbconvert_exporter": "python",
   "pygments_lexer": "ipython3",
   "version": "3.8.3"
  }
 },
 "nbformat": 4,
 "nbformat_minor": 4
}
